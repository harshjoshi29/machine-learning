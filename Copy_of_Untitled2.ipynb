{
  "nbformat": 4,
  "nbformat_minor": 0,
  "metadata": {
    "colab": {
      "name": "Copy of Untitled2.ipynb",
      "provenance": [],
      "authorship_tag": "ABX9TyMlwd8fK80e2BsTyDk3WrM5",
      "include_colab_link": true
    },
    "kernelspec": {
      "name": "python3",
      "display_name": "Python 3"
    },
    "language_info": {
      "name": "python"
    }
  },
  "cells": [
    {
      "cell_type": "markdown",
      "metadata": {
        "id": "view-in-github",
        "colab_type": "text"
      },
      "source": [
        "<a href=\"https://colab.research.google.com/github/harshjoshi29/machine-learning/blob/main/Copy_of_Untitled2.ipynb\" target=\"_parent\"><img src=\"https://colab.research.google.com/assets/colab-badge.svg\" alt=\"Open In Colab\"/></a>"
      ]
    },
    {
      "cell_type": "code",
      "execution_count": 1,
      "metadata": {
        "id": "4Ep5QuALDMZZ",
        "colab": {
          "base_uri": "https://localhost:8080/"
        },
        "outputId": "c832286d-ef41-4c23-9011-e5c4130f2760"
      },
      "outputs": [
        {
          "output_type": "stream",
          "name": "stdout",
          "text": [
            "Collecting bing-image-downloader\n",
            "  Downloading bing_image_downloader-1.1.2-py3-none-any.whl (5.9 kB)\n",
            "Installing collected packages: bing-image-downloader\n",
            "Successfully installed bing-image-downloader-1.1.2\n"
          ]
        }
      ],
      "source": [
        "!pip install bing-image-downloader"
      ]
    },
    {
      "cell_type": "code",
      "source": [
        "!mkdir image_dataset"
      ],
      "metadata": {
        "colab": {
          "base_uri": "https://localhost:8080/"
        },
        "id": "ZGC75AvwEpj5",
        "outputId": "379e1eea-b911-4a38-8729-7dbfc1bcbff9"
      },
      "execution_count": 3,
      "outputs": [
        {
          "output_type": "stream",
          "name": "stdout",
          "text": [
            "mkdir: cannot create directory ‘image_dataset’: File exists\n"
          ]
        }
      ]
    },
    {
      "cell_type": "code",
      "source": [
        "from bing_image_downloader import downloader \n",
        "downloader.download(\"super bikes\",limit=20,output_dir='image_dataset' )"
      ],
      "metadata": {
        "colab": {
          "base_uri": "https://localhost:8080/"
        },
        "id": "fTs-klFCE8NL",
        "outputId": "02d6aa65-e742-4bc8-bf44-bb942609a4cf"
      },
      "execution_count": 4,
      "outputs": [
        {
          "output_type": "stream",
          "name": "stdout",
          "text": [
            "[%] Downloading Images to /content/image_dataset/super bikes\n",
            "\n",
            "\n",
            "[!!]Indexing page: 1\n",
            "\n",
            "[%] Indexed 20 Images on Page 1.\n",
            "\n",
            "===============================================\n",
            "\n",
            "[%] Downloading Image #1 from http://wallpapercave.com/wp/wp1845507.jpg\n",
            "[%] File Downloaded !\n",
            "\n",
            "[%] Downloading Image #2 from https://wallpapercave.com/wp/wp1845466.jpg\n",
            "[%] File Downloaded !\n",
            "\n",
            "[%] Downloading Image #3 from https://wallpapercave.com/wp/wp1845500.jpg\n",
            "[%] File Downloaded !\n",
            "\n",
            "[%] Downloading Image #4 from https://wallpapercave.com/wp/wp1845470.jpg\n",
            "[%] File Downloaded !\n",
            "\n",
            "[%] Downloading Image #5 from https://www.motoroids.com/wp-content/uploads/2017/07/Most-Expensive-Superbikes-in-India-Edit-001.jpg\n",
            "[%] File Downloaded !\n",
            "\n",
            "[%] Downloading Image #6 from http://wallpapercave.com/wp/wp1845496.jpg\n",
            "[%] File Downloaded !\n",
            "\n",
            "[%] Downloading Image #7 from https://cdn.hipwallpaper.com/i/70/1/wcM7pU.jpg\n",
            "[%] File Downloaded !\n",
            "\n",
            "[%] Downloading Image #8 from http://2.bp.blogspot.com/-fnX3YibE3sU/UiWAo5Akg9I/AAAAAAAAAwE/w4Kn3avNGQM/s1600/Super+Bike+HD+Wallpaper+4.jpeg\n",
            "[%] File Downloaded !\n",
            "\n",
            "[%] Downloading Image #9 from https://4.bp.blogspot.com/-Wjlu4xNf0K0/UJbMH4wB-5I/AAAAAAAAH4Q/5kXyzGyWYdI/s1600/BMW+S1000RR+world's+fastest+bike+HD+wallpapers+Image01.jpg\n",
            "[%] File Downloaded !\n",
            "\n",
            "[%] Downloading Image #10 from https://cdn.wallpapersafari.com/98/92/6xHyFM.jpg\n",
            "[%] File Downloaded !\n",
            "\n",
            "[%] Downloading Image #11 from http://wallpapercave.com/wp/wp1845467.jpg\n",
            "[%] File Downloaded !\n",
            "\n",
            "[%] Downloading Image #12 from https://whatishappening.in/wp-content/uploads/2021/01/optimized-j1pl.jpg\n",
            "[%] File Downloaded !\n",
            "\n",
            "[%] Downloading Image #13 from http://3.bp.blogspot.com/-BlL3_OUU-ls/TnDUG4CBqnI/AAAAAAAAFpc/1kdXfqER_qg/s1600/super%2Bbike%2Bmotorcycle%2Bphoto-779085.jpg\n",
            "[%] File Downloaded !\n",
            "\n",
            "[%] Downloading Image #14 from https://i.pinimg.com/originals/2b/14/83/2b1483c3622ff8e5972fceec33c57109.jpg\n",
            "[%] File Downloaded !\n",
            "\n",
            "[%] Downloading Image #15 from https://i.pinimg.com/736x/26/f0/e3/26f0e3ea5faa03855df7d1dadfa8be91.jpg\n",
            "[%] File Downloaded !\n",
            "\n",
            "[%] Downloading Image #16 from https://i.pinimg.com/736x/ad/e6/18/ade618280db2fa229434acd19872131d.jpg\n",
            "[%] File Downloaded !\n",
            "\n",
            "[%] Downloading Image #17 from https://3.bp.blogspot.com/_bCS-f32p1gk/TGhCvqi6ALI/AAAAAAAAAFs/ejQ_TWcDwvI/s1600/pic-10769.jpg\n",
            "[%] File Downloaded !\n",
            "\n",
            "[%] Downloading Image #18 from http://2.bp.blogspot.com/-xDL5Hutt50w/UdspWsJhEGI/AAAAAAAACS4/z6CMeM4ABOs/s1600/latest-heavy-sports-bike-hd-wallpaper-14.jpg\n",
            "[%] File Downloaded !\n",
            "\n",
            "[%] Downloading Image #19 from https://2.bp.blogspot.com/-VhDOcfF3zMA/UkgykikK0nI/AAAAAAAAPdc/vPTT7RkYI1Q/s1600/sports-bike-wallpaper.jpg\n",
            "[%] File Downloaded !\n",
            "\n",
            "[%] Downloading Image #20 from https://www.roadracingworld.com/wp-content/uploads/rrw/489bf005-17b7-4cfe-bdb5-a13a62c8e758.jpg\n",
            "[%] File Downloaded !\n",
            "\n",
            "\n",
            "\n",
            "[%] Done. Downloaded 20 images.\n"
          ]
        }
      ]
    },
    {
      "cell_type": "markdown",
      "source": [
        "# New Section"
      ],
      "metadata": {
        "id": "LKG1-pffEAOY"
      }
    }
  ]
}